{
 "cells": [
  {
   "cell_type": "code",
   "execution_count": 10,
   "id": "48b05b16",
   "metadata": {},
   "outputs": [],
   "source": [
    "from sklearn.base import BaseEstimator\n",
    "import numpy as np\n",
    "\n",
    "class MyDummyClassifier(BaseEstimator): # 상속\n",
    "    def fit(self, x, y=None):\n",
    "        pass\n",
    "    def predict(self, x):\n",
    "        pred = np.zeros((x.shape[0],1))\n",
    "        for i in range(x.shape[0]):\n",
    "            if x['Sex'].iloc[i] == 1:\n",
    "                pred[i] = 0\n",
    "            else :\n",
    "                pred[i] = 1\n",
    "                \n",
    "        return pred"
   ]
  },
  {
   "cell_type": "code",
   "execution_count": 11,
   "id": "91f09728",
   "metadata": {},
   "outputs": [],
   "source": [
    "from sklearn import preprocessing\n",
    "\n",
    "def fillna(df):\n",
    "    df['Age'].fillna(df['Age'].mean(), inplace = True)\n",
    "    df['Cabin'].fillna('N', inplace = True)\n",
    "    df['Embarked'].fillna('N', inplace = True)\n",
    "    df['Fare'].fillna(0, inplace = True)\n",
    "    return df\n",
    "\n",
    "def drop_features(df):\n",
    "    df.drop(['PassengerId','Name','Ticket'], axis = 1, inplace = True)\n",
    "    return df\n",
    "\n",
    "def format_features(df):\n",
    "    df['Cabin'] = df['Cabin'].str[:1]\n",
    "    features = ['Cabin','Sex','Embarked']\n",
    "    for feature in features:\n",
    "        le = preprocessing.LabelEncoder()\n",
    "        le = le.fit(df[feature])\n",
    "        df[feature] = le.transform(df[feature])\n",
    "        \n",
    "    return df\n",
    "\n",
    "def transform_features(df):\n",
    "    df = fillna(df)\n",
    "    df = drop_features(df)\n",
    "    df = format_features(df)\n",
    "    return df"
   ]
  },
  {
   "cell_type": "code",
   "execution_count": 12,
   "id": "a06ed127",
   "metadata": {},
   "outputs": [],
   "source": [
    "import pandas as pd\n",
    "from sklearn.model_selection import train_test_split\n",
    "from sklearn.metrics import accuracy_score\n",
    "\n",
    "titanic_df = pd.read_csv('titanic_train.csv')\n",
    "y_titanic_df = titanic_df['Survived']\n",
    "x_titanic_df = titanic_df.drop('Survived', axis = 1)\n",
    "x_titanic_df = transform_features(x_titanic_df)\n",
    "x_train, x_test, y_train, y_test = train_test_split(x_titanic_df, y_titanic_df, test_size = 0.2, random_state=0)"
   ]
  },
  {
   "cell_type": "code",
   "execution_count": 14,
   "id": "aeaae251",
   "metadata": {},
   "outputs": [
    {
     "name": "stdout",
     "output_type": "stream",
     "text": [
      "더미 정확도: 0.7877094972067039\n"
     ]
    }
   ],
   "source": [
    "myclf = MyDummyClassifier()\n",
    "myclf.fit(x_train, y_train)\n",
    "mypred = myclf.predict(x_test)\n",
    "print('더미 정확도:',accuracy_score(y_test, mypred))"
   ]
  },
  {
   "cell_type": "code",
   "execution_count": 18,
   "id": "1f3a5b21",
   "metadata": {},
   "outputs": [
    {
     "data": {
      "text/plain": [
       "179"
      ]
     },
     "execution_count": 18,
     "metadata": {},
     "output_type": "execute_result"
    }
   ],
   "source": [
    "x_test.shape[0]"
   ]
  },
  {
   "cell_type": "code",
   "execution_count": 19,
   "id": "02c7246d",
   "metadata": {},
   "outputs": [],
   "source": [
    "from sklearn.metrics import accuracy_score, precision_score, recall_score, confusion_matrix\n",
    "\n",
    "def get_clf_eval(y_test, pred):\n",
    "    confusion = confusion_matrix(y_test, pred)\n",
    "    accuracy = accuracy_score(y_test, pred)\n",
    "    precision = precision_score(y_test, pred)\n",
    "    recall = recall_score(y_test, pred)\n",
    "    print(confusion)\n",
    "    print('정확도:', accuracy, '정밀도:',precision, '재현울:',recall)"
   ]
  },
  {
   "cell_type": "code",
   "execution_count": 21,
   "id": "fa7af8d7",
   "metadata": {},
   "outputs": [
    {
     "name": "stdout",
     "output_type": "stream",
     "text": [
      "[[104  14]\n",
      " [ 13  48]]\n",
      "정확도: 0.8491620111731844 정밀도: 0.7741935483870968 재현울: 0.7868852459016393\n"
     ]
    },
    {
     "name": "stderr",
     "output_type": "stream",
     "text": [
      "C:\\ProgramData\\Anaconda3\\envs\\ssu\\lib\\site-packages\\sklearn\\linear_model\\_logistic.py:763: ConvergenceWarning: lbfgs failed to converge (status=1):\n",
      "STOP: TOTAL NO. of ITERATIONS REACHED LIMIT.\n",
      "\n",
      "Increase the number of iterations (max_iter) or scale the data as shown in:\n",
      "    https://scikit-learn.org/stable/modules/preprocessing.html\n",
      "Please also refer to the documentation for alternative solver options:\n",
      "    https://scikit-learn.org/stable/modules/linear_model.html#logistic-regression\n",
      "  n_iter_i = _check_optimize_result(\n"
     ]
    }
   ],
   "source": [
    "import pandas as pd\n",
    "from sklearn.linear_model import LogisticRegression\n",
    "\n",
    "titanic_df = pd.read_csv('titanic_train.csv')\n",
    "y_titanic_df = titanic_df['Survived']\n",
    "x_titanic_df = titanic_df.drop('Survived', axis = 1)\n",
    "x_titanic_df = transform_features(x_titanic_df)\n",
    "\n",
    "x_train, x_test, y_train, y_test = train_test_split(x_titanic_df, y_titanic_df, test_size = 0.2, random_state =11)\n",
    "\n",
    "lr_clf = LogisticRegression()\n",
    "\n",
    "lr_clf.fit(x_train, y_train)\n",
    "pred = lr_clf.predict(x_test)\n",
    "get_clf_eval(y_test, pred)"
   ]
  },
  {
   "cell_type": "code",
   "execution_count": 23,
   "id": "849f44e5",
   "metadata": {
    "scrolled": true
   },
   "outputs": [
    {
     "name": "stdout",
     "output_type": "stream",
     "text": [
      "pred_proba 결과: [[0.46162417 0.53837583]\n",
      " [0.87858538 0.12141462]\n",
      " [0.87723741 0.12276259]]\n",
      "shape: (179, 2)\n",
      "[[0.46162417 0.53837583 1.        ]\n",
      " [0.87858538 0.12141462 0.        ]\n",
      " [0.87723741 0.12276259 0.        ]]\n"
     ]
    }
   ],
   "source": [
    "pred_proba = lr_clf.predict_proba(x_test)\n",
    "pred = lr_clf.predict(x_test)\n",
    "print('pred_proba 결과:', pred_proba[:3])\n",
    "print('shape:', pred_proba.shape)\n",
    "pred_proba_result = np.concatenate([pred_proba, pred.reshape(-1,1)], axis = 1)\n",
    "print(pred_proba_result[:3])"
   ]
  },
  {
   "cell_type": "code",
   "execution_count": 24,
   "id": "11d81cda",
   "metadata": {},
   "outputs": [
    {
     "name": "stdout",
     "output_type": "stream",
     "text": [
      "[[0. 0. 1.]\n",
      " [1. 0. 0.]\n",
      " [0. 0. 1.]]\n"
     ]
    }
   ],
   "source": [
    "from sklearn.preprocessing import Binarizer\n",
    "\n",
    "x = [[1,-1,2],\n",
    "     [2,0,0],\n",
    "     [0,1.1,1.2]]\n",
    "\n",
    "binarizer = Binarizer(threshold = 1.1)\n",
    "print(binarizer.fit_transform(x))"
   ]
  },
  {
   "cell_type": "code",
   "execution_count": 25,
   "id": "c199792a",
   "metadata": {},
   "outputs": [
    {
     "name": "stdout",
     "output_type": "stream",
     "text": [
      "[[104  14]\n",
      " [ 13  48]]\n",
      "정확도: 0.8491620111731844 정밀도: 0.7741935483870968 재현울: 0.7868852459016393\n"
     ]
    }
   ],
   "source": [
    "custom_threshold = 0.5\n",
    "\n",
    "pred_proba_1 = pred_proba[:,1].reshape(-1,1)\n",
    "binarizer = Binarizer(threshold = custom_threshold).fit(pred_proba_1)\n",
    "custom_predict = binarizer.transform(pred_proba_1)\n",
    "\n",
    "get_clf_eval(y_test, custom_predict)"
   ]
  },
  {
   "cell_type": "code",
   "execution_count": 26,
   "id": "80666d69",
   "metadata": {},
   "outputs": [
    {
     "name": "stdout",
     "output_type": "stream",
     "text": [
      "[[99 19]\n",
      " [10 51]]\n",
      "정확도: 0.8379888268156425 정밀도: 0.7285714285714285 재현울: 0.8360655737704918\n"
     ]
    }
   ],
   "source": [
    "custom_threshold = 0.4\n",
    "\n",
    "pred_proba_1 = pred_proba[:,1].reshape(-1,1)\n",
    "binarizer = Binarizer(threshold = custom_threshold).fit(pred_proba_1)\n",
    "custom_predict = binarizer.transform(pred_proba_1)\n",
    "\n",
    "get_clf_eval(y_test, custom_predict)"
   ]
  },
  {
   "cell_type": "code",
   "execution_count": 29,
   "id": "04ce2d7f",
   "metadata": {},
   "outputs": [
    {
     "name": "stdout",
     "output_type": "stream",
     "text": [
      "임계값: 0.4\n",
      "[[99 19]\n",
      " [10 51]]\n",
      "정확도: 0.8379888268156425 정밀도: 0.7285714285714285 재현울: 0.8360655737704918\n",
      "임계값: 0.45\n",
      "[[103  15]\n",
      " [ 12  49]]\n",
      "정확도: 0.8491620111731844 정밀도: 0.765625 재현울: 0.8032786885245902\n",
      "임계값: 0.5\n",
      "[[104  14]\n",
      " [ 13  48]]\n",
      "정확도: 0.8491620111731844 정밀도: 0.7741935483870968 재현울: 0.7868852459016393\n",
      "임계값: 0.55\n",
      "[[109   9]\n",
      " [ 15  46]]\n",
      "정확도: 0.8659217877094972 정밀도: 0.8363636363636363 재현울: 0.7540983606557377\n",
      "임계값: 0.6\n",
      "[[112   6]\n",
      " [ 16  45]]\n",
      "정확도: 0.8770949720670391 정밀도: 0.8823529411764706 재현울: 0.7377049180327869\n"
     ]
    }
   ],
   "source": [
    "thresholds = [0.4,0.45,0.5,0.55,0.6]\n",
    "\n",
    "def get_eval_by_threshold(y_test, pred_proba_c1, thresholds):\n",
    "    \n",
    "    for custom_threshold in thresholds:\n",
    "        binarizer = Binarizer(threshold = custom_threshold).fit(pred_proba_c1)\n",
    "        custom_predict = binarizer.transform(pred_proba_c1)\n",
    "        print('임계값:',custom_threshold)\n",
    "        get_clf_eval(y_test, custom_predict)\n",
    "        \n",
    "get_eval_by_threshold(y_test, pred_proba[:, 1].reshape(-1,1), thresholds)"
   ]
  },
  {
   "cell_type": "code",
   "execution_count": 31,
   "id": "61d9a184",
   "metadata": {},
   "outputs": [
    {
     "name": "stdout",
     "output_type": "stream",
     "text": [
      "반환된 분류결정 임계값 배열 shape: (143,)\n",
      "index 10개: [  0  15  30  45  60  75  90 105 120 135]\n",
      "샘플 10개 임계값: [0.104 0.121 0.14  0.186 0.281 0.404 0.565 0.667 0.822 0.947]\n",
      "샘플 정밀도: [0.389 0.44  0.466 0.539 0.647 0.729 0.836 0.949 0.958 1.   ]\n",
      "샘플 재현율: [1.    0.967 0.902 0.902 0.902 0.836 0.754 0.607 0.377 0.148]\n"
     ]
    }
   ],
   "source": [
    "from sklearn.metrics import precision_recall_curve\n",
    "\n",
    "pred_proba_class1 = lr_clf.predict_proba(x_test)[:,1]\n",
    "\n",
    "precisions, recalls, thresholds = precision_recall_curve(y_test, pred_proba_class1)\n",
    "print('반환된 분류결정 임계값 배열 shape:', thresholds.shape)\n",
    "\n",
    "thr_index = np.arange(0, thresholds.shape[0], 15)\n",
    "print('index 10개:', thr_index)\n",
    "print('샘플 10개 임계값:', np.round(thresholds[thr_index],3))\n",
    "print('샘플 정밀도:', np.round(precisions[thr_index],3))\n",
    "print('샘플 재현율:', np.round(recalls[thr_index],3))"
   ]
  },
  {
   "cell_type": "code",
   "execution_count": 33,
   "id": "a2dbb139",
   "metadata": {},
   "outputs": [
    {
     "data": {
      "image/png": "[encoded data removed]",
      "text/plain": [
       "<Figure size 576x432 with 1 Axes>"
      ]
     },
     "metadata": {
      "needs_background": "light"
     },
     "output_type": "display_data"
    }
   ],
   "source": [
    "import matplotlib.pyplot as plt\n",
    "import matplotlib.pyplot as ticker\n",
    "%matplotlib inline\n",
    "\n",
    "def precision_recall_curve_plot(y_test, pred_proba_c1):\n",
    "    precisions, recalls, thresholds = precision_recall_curve(y_test, pred_proba_c1)\n",
    "    \n",
    "    plt.figure(figsize=(8,6))\n",
    "    threshold_boundary = thresholds.shape[0]\n",
    "    plt.plot(thresholds, precisions[0:threshold_boundary],linestyle='--', label='precision')\n",
    "    plt.plot(thresholds, recalls[0:threshold_boundary],label='recall')\n",
    "    \n",
    "    start, end = plt.xlim()\n",
    "    plt.xticks(np.round(np.arange(start, end, 0.1),2))\n",
    "    plt.legend()\n",
    "    plt.grid()\n",
    "    plt.show()\n",
    "    \n",
    "precision_recall_curve_plot(y_test, lr_clf.predict_proba(x_test)[:,1])"
   ]
  },
  {
   "cell_type": "code",
   "execution_count": 37,
   "id": "2715b7c0",
   "metadata": {},
   "outputs": [
    {
     "name": "stdout",
     "output_type": "stream",
     "text": [
      "f1 스코어: 0.7805\n"
     ]
    }
   ],
   "source": [
    "from sklearn.metrics import f1_score\n",
    "f1 = f1_score(y_test, pred)\n",
    "print('f1 스코어:', np.round(f1,4))"
   ]
  },
  {
   "cell_type": "code",
   "execution_count": 41,
   "id": "d27c7b35",
   "metadata": {},
   "outputs": [
    {
     "name": "stdout",
     "output_type": "stream",
     "text": [
      "반환된 분류결정 임계값 배열 shape: (53,)\n",
      "index 10개: [ 1  6 11 16 21 26 31 36 41 46 51]\n",
      "샘플 10개 임계값: [0.965 0.654 0.63  0.565 0.455 0.38  0.309 0.129 0.123 0.112 0.104]\n",
      "샘플 FPR: [0.    0.017 0.034 0.076 0.127 0.186 0.237 0.576 0.619 0.754 0.814]\n",
      "샘플 TPR: [0.033 0.639 0.705 0.754 0.803 0.852 0.902 0.902 0.951 0.967 1.   ]\n"
     ]
    }
   ],
   "source": [
    "from sklearn.metrics import roc_curve\n",
    "\n",
    "pred_proba_class1 = lr_clf.predict_proba(x_test)[:,1]\n",
    "\n",
    "fprs, tprs, thresholds = roc_curve(y_test, pred_proba_class1)\n",
    "print('반환된 분류결정 임계값 배열 shape:', thresholds.shape)\n",
    "\n",
    "thr_index = np.arange(1, thresholds.shape[0], 5)\n",
    "print('index 10개:', thr_index)\n",
    "print('샘플 10개 임계값:', np.round(thresholds[thr_index],3))\n",
    "print('샘플 FPR:', np.round(fprs[thr_index],3))\n",
    "print('샘플 TPR:', np.round(tprs[thr_index],3))"
   ]
  },
  {
   "cell_type": "code",
   "execution_count": 43,
   "id": "0ca3caca",
   "metadata": {},
   "outputs": [
    {
     "name": "stdout",
     "output_type": "stream",
     "text": [
      "roc auc 값: 0.9024\n"
     ]
    }
   ],
   "source": [
    "from sklearn.metrics import roc_auc_score\n",
    "\n",
    "pred_proba = lr_clf.predict_proba(x_test)[:,1]\n",
    "roc_score = roc_auc_score(y_test, pred_proba)\n",
    "print('roc auc 값:', np.round(roc_score,4))"
   ]
  },
  {
   "cell_type": "code",
   "execution_count": null,
   "id": "97b6f4aa",
   "metadata": {},
   "outputs": [],
   "source": []
  }
 ],
 "metadata": {
  "kernelspec": {
   "display_name": "Python [conda env:ssu] *",
   "language": "python",
   "name": "conda-env-ssu-py"
  },
  "language_info": {
   "codemirror_mode": {
    "name": "ipython",
    "version": 3
   },
   "file_extension": ".py",
   "mimetype": "text/x-python",
   "name": "python",
   "nbconvert_exporter": "python",
   "pygments_lexer": "ipython3",
   "version": "3.8.10"
  }
 },
 "nbformat": 4,
 "nbformat_minor": 5
}
